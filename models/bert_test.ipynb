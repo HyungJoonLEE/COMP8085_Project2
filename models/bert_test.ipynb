{
 "cells": [
  {
   "cell_type": "code",
   "execution_count": 99,
   "metadata": {
    "collapsed": true,
    "pycharm": {
     "name": "#%%\n"
    }
   },
   "outputs": [],
   "source": [
    "import sys, os, re, json\n",
    "import nltk\n",
    "import numpy as np\n",
    "import pandas as pd\n",
    "import matplotlib.pyplot as plt\n",
    "import seaborn as sn\n",
    "from nltk.tokenize import word_tokenize\n",
    "\n",
    "from collections import defaultdict, Counter\n",
    "from typing import List, Tuple, Dict"
   ]
  },
  {
   "cell_type": "code",
   "execution_count": 100,
   "outputs": [],
   "source": [
    "def get_reviews(file_review):\n",
    "    # Load the CSV file into a DataFrame. Ensure you have the correct path to your CSV file.\n",
    "    review_csv = pd.read_csv(file_review)\n",
    "\n",
    "    # Directly select the 'text' and 'stars' columns assuming they exist directly in the CSV\n",
    "    text_list = review_csv['text'].tolist()  # Convert the 'text' column to a list\n",
    "    stars_list = review_csv['stars'].astype(int).tolist()  # Convert 'stars' to\n",
    "    # int and then to list\n",
    "\n",
    "    # Create a new DataFrame from the lists\n",
    "    df = pd.DataFrame({\n",
    "        \"text\": text_list,\n",
    "        \"stars\": stars_list\n",
    "    })\n",
    "\n",
    "    return df"
   ],
   "metadata": {
    "collapsed": false,
    "pycharm": {
     "name": "#%%\n"
    }
   }
  },
  {
   "cell_type": "code",
   "execution_count": 101,
   "outputs": [],
   "source": [
    "df_review = get_reviews(\"../data/yelp_review_untouched.csv\")"
   ],
   "metadata": {
    "collapsed": false,
    "pycharm": {
     "name": "#%%\n"
    }
   }
  },
  {
   "cell_type": "code",
   "execution_count": 102,
   "outputs": [
    {
     "data": {
      "text/plain": "                                                text  stars\n0  if you decide to eat here just be aware it is ...      3\n1  ive taken a lot of spin classes over the years...      5\n2  family diner had the buffet eclectic assortmen...      3\n3  wow  yummy different  delicious   our favorite...      5\n4  cute interior and owner  gave us tour of upcom...      4\n5  i am a long term frequent customer of this est...      1\n6  loved this tour i grabbed a groupon and the pr...      5\n7  amazingly amazing wings and homemade bleu chee...      5\n8  this easter instead of going to lopez lake we ...      3\n9  had a party of 6 here for hibachi our waitress...      3",
      "text/html": "<div>\n<style scoped>\n    .dataframe tbody tr th:only-of-type {\n        vertical-align: middle;\n    }\n\n    .dataframe tbody tr th {\n        vertical-align: top;\n    }\n\n    .dataframe thead th {\n        text-align: right;\n    }\n</style>\n<table border=\"1\" class=\"dataframe\">\n  <thead>\n    <tr style=\"text-align: right;\">\n      <th></th>\n      <th>text</th>\n      <th>stars</th>\n    </tr>\n  </thead>\n  <tbody>\n    <tr>\n      <th>0</th>\n      <td>if you decide to eat here just be aware it is ...</td>\n      <td>3</td>\n    </tr>\n    <tr>\n      <th>1</th>\n      <td>ive taken a lot of spin classes over the years...</td>\n      <td>5</td>\n    </tr>\n    <tr>\n      <th>2</th>\n      <td>family diner had the buffet eclectic assortmen...</td>\n      <td>3</td>\n    </tr>\n    <tr>\n      <th>3</th>\n      <td>wow  yummy different  delicious   our favorite...</td>\n      <td>5</td>\n    </tr>\n    <tr>\n      <th>4</th>\n      <td>cute interior and owner  gave us tour of upcom...</td>\n      <td>4</td>\n    </tr>\n    <tr>\n      <th>5</th>\n      <td>i am a long term frequent customer of this est...</td>\n      <td>1</td>\n    </tr>\n    <tr>\n      <th>6</th>\n      <td>loved this tour i grabbed a groupon and the pr...</td>\n      <td>5</td>\n    </tr>\n    <tr>\n      <th>7</th>\n      <td>amazingly amazing wings and homemade bleu chee...</td>\n      <td>5</td>\n    </tr>\n    <tr>\n      <th>8</th>\n      <td>this easter instead of going to lopez lake we ...</td>\n      <td>3</td>\n    </tr>\n    <tr>\n      <th>9</th>\n      <td>had a party of 6 here for hibachi our waitress...</td>\n      <td>3</td>\n    </tr>\n  </tbody>\n</table>\n</div>"
     },
     "execution_count": 102,
     "metadata": {},
     "output_type": "execute_result"
    }
   ],
   "source": [
    "df_review.head(10)"
   ],
   "metadata": {
    "collapsed": false,
    "pycharm": {
     "name": "#%%\n"
    }
   }
  },
  {
   "cell_type": "code",
   "execution_count": 103,
   "outputs": [
    {
     "data": {
      "text/plain": "stars\n5    3231626\n4    1452918\n1    1069558\n3     691933\n2     544240\nName: count, dtype: int64"
     },
     "execution_count": 103,
     "metadata": {},
     "output_type": "execute_result"
    }
   ],
   "source": [
    "df_review[\"stars\"].value_counts(normalize=False)"
   ],
   "metadata": {
    "collapsed": false,
    "pycharm": {
     "name": "#%%\n"
    }
   }
  },
  {
   "cell_type": "code",
   "execution_count": 104,
   "outputs": [],
   "source": [
    "def plot_labels(df, title=None):\n",
    "  ds_labels = df[\"stars\"].value_counts(normalize=True)\n",
    "  ds_labels.sort_index(inplace=True)\n",
    "  plt.figure(figsize=(4,3))\n",
    "  ax = ds_labels.plot(kind=\"bar\")\n",
    "  ax.set_xlabel(\"Stars\")\n",
    "  ax.set_ylabel(\"Ratio\")\n",
    "  if title is not None:\n",
    "    plt.savefig(title + \".eps\")\n",
    "  plt.show()"
   ],
   "metadata": {
    "collapsed": false,
    "pycharm": {
     "name": "#%%\n"
    }
   }
  },
  {
   "cell_type": "code",
   "execution_count": 105,
   "outputs": [
    {
     "data": {
      "text/plain": "<Figure size 400x300 with 1 Axes>",
      "image/png": "[encoded data removed]"
     },
     "metadata": {},
     "output_type": "display_data"
    }
   ],
   "source": [
    "plot_labels(df_review, \"stars\")"
   ],
   "metadata": {
    "collapsed": false,
    "pycharm": {
     "name": "#%%\n"
    }
   }
  },
  {
   "cell_type": "code",
   "execution_count": 106,
   "outputs": [],
   "source": [
    "from sklearn.model_selection import train_test_split\n",
    "\n",
    "df_train_raw, df_test = train_test_split(df_review, test_size=250000,\n",
    "                                         random_state=42, shuffle=True)\n",
    "df_train_raw, df_dev = train_test_split(df_train_raw, test_size=50000,\n",
    "                                        random_state=42, shuffle=True)"
   ],
   "metadata": {
    "collapsed": false,
    "pycharm": {
     "name": "#%%\n"
    }
   }
  },
  {
   "cell_type": "code",
   "execution_count": 107,
   "outputs": [
    {
     "data": {
      "text/plain": "stars\n5    3000275\n4    1348930\n1     993387\n3     642332\n2     505351\nName: count, dtype: int64"
     },
     "execution_count": 107,
     "metadata": {},
     "output_type": "execute_result"
    }
   ],
   "source": [
    "df_train_raw[\"stars\"].value_counts(normalize=False)"
   ],
   "metadata": {
    "collapsed": false,
    "pycharm": {
     "name": "#%%\n"
    }
   }
  },
  {
   "cell_type": "code",
   "execution_count": 108,
   "outputs": [],
   "source": [
    "from sklearn.utils import resample\n",
    "\n",
    "def undersample(df, group_size=250000):\n",
    "  dfs = []\n",
    "\n",
    "  for label in df[\"stars\"].value_counts().keys():\n",
    "    df_group = df[df[\"stars\"] == label]\n",
    "    df_group_undersampled = resample(df_group,\n",
    "                                     replace=False,\n",
    "                                     n_samples=group_size,\n",
    "                                     random_state=0)\n",
    "    dfs.append(df_group_undersampled)\n",
    "\n",
    "  return pd.concat(dfs).sample(frac=1, random_state=0)"
   ],
   "metadata": {
    "collapsed": false,
    "pycharm": {
     "name": "#%%\n"
    }
   }
  },
  {
   "cell_type": "code",
   "execution_count": 109,
   "outputs": [],
   "source": [
    "df_train = undersample(df_train_raw)"
   ],
   "metadata": {
    "collapsed": false,
    "pycharm": {
     "name": "#%%\n"
    }
   }
  },
  {
   "cell_type": "code",
   "execution_count": 110,
   "outputs": [],
   "source": [
    "num_review = df_review.shape[0]\n",
    "num_train = df_train.shape[0]\n",
    "num_dev = df_dev.shape[0]\n",
    "num_test = df_test.shape[0]"
   ],
   "metadata": {
    "collapsed": false,
    "pycharm": {
     "name": "#%%\n"
    }
   }
  },
  {
   "cell_type": "code",
   "execution_count": 111,
   "outputs": [
    {
     "name": "stdout",
     "output_type": "stream",
     "text": [
      "(1250000, 2)\n"
     ]
    },
    {
     "data": {
      "text/plain": "<Figure size 400x300 with 1 Axes>",
      "image/png": "[encoded data removed]"
     },
     "metadata": {},
     "output_type": "display_data"
    }
   ],
   "source": [
    "print(df_train.shape)\n",
    "plot_labels(df_train)"
   ],
   "metadata": {
    "collapsed": false,
    "pycharm": {
     "name": "#%%\n"
    }
   }
  },
  {
   "cell_type": "code",
   "execution_count": 112,
   "outputs": [
    {
     "name": "stdout",
     "output_type": "stream",
     "text": [
      "(250000, 2)\n"
     ]
    },
    {
     "data": {
      "text/plain": "<Figure size 400x300 with 1 Axes>",
      "image/png": "[encoded data removed]"
     },
     "metadata": {},
     "output_type": "display_data"
    }
   ],
   "source": [
    "print(df_dev.shape)\n",
    "plot_labels(df_dev)"
   ],
   "metadata": {
    "collapsed": false,
    "pycharm": {
     "name": "#%%\n"
    }
   }
  },
  {
   "cell_type": "code",
   "execution_count": 113,
   "outputs": [
    {
     "name": "stdout",
     "output_type": "stream",
     "text": [
      "(250000, 2)\n"
     ]
    },
    {
     "data": {
      "text/plain": "<Figure size 400x300 with 1 Axes>",
      "image/png": "[encoded data removed]"
     },
     "metadata": {},
     "output_type": "display_data"
    }
   ],
   "source": [
    "print(df_test.shape)\n",
    "plot_labels(df_test)"
   ],
   "metadata": {
    "collapsed": false,
    "pycharm": {
     "name": "#%%\n"
    }
   }
  },
  {
   "cell_type": "code",
   "execution_count": 114,
   "outputs": [],
   "source": [
    "df_train[\"labels\"] = df_train[\"stars\"] - 1\n",
    "df_dev[\"labels\"] = df_dev[\"stars\"] - 1\n",
    "df_test[\"labels\"] = df_test[\"stars\"] - 1"
   ],
   "metadata": {
    "collapsed": false,
    "pycharm": {
     "name": "#%%\n"
    }
   }
  },
  {
   "cell_type": "code",
   "execution_count": 115,
   "outputs": [
    {
     "data": {
      "text/plain": "                                                      text  stars  labels\n5404113  this place is super whatever we waited in line...      3       2\n1817189  i would give this restaurant 4stars except for...      3       2\n5828525  great food great service  went for lunch on a ...      4       3\n774735   went to dinner there tonight with three collea...      5       4\n6780833  the 2 stars is for the service food is always ...      2       1\n2774415  the worst service ever food was disgusting i w...      1       0\n844766   i have been to this place twice  first was bla...      2       1\n4651450  my family loves eddie bulls cookie dough they ...      5       4\n1019303  still waiting on my truck that went into the s...      1       0\n565233   nash painting was great from start to finish  ...      5       4",
      "text/html": "<div>\n<style scoped>\n    .dataframe tbody tr th:only-of-type {\n        vertical-align: middle;\n    }\n\n    .dataframe tbody tr th {\n        vertical-align: top;\n    }\n\n    .dataframe thead th {\n        text-align: right;\n    }\n</style>\n<table border=\"1\" class=\"dataframe\">\n  <thead>\n    <tr style=\"text-align: right;\">\n      <th></th>\n      <th>text</th>\n      <th>stars</th>\n      <th>labels</th>\n    </tr>\n  </thead>\n  <tbody>\n    <tr>\n      <th>5404113</th>\n      <td>this place is super whatever we waited in line...</td>\n      <td>3</td>\n      <td>2</td>\n    </tr>\n    <tr>\n      <th>1817189</th>\n      <td>i would give this restaurant 4stars except for...</td>\n      <td>3</td>\n      <td>2</td>\n    </tr>\n    <tr>\n      <th>5828525</th>\n      <td>great food great service  went for lunch on a ...</td>\n      <td>4</td>\n      <td>3</td>\n    </tr>\n    <tr>\n      <th>774735</th>\n      <td>went to dinner there tonight with three collea...</td>\n      <td>5</td>\n      <td>4</td>\n    </tr>\n    <tr>\n      <th>6780833</th>\n      <td>the 2 stars is for the service food is always ...</td>\n      <td>2</td>\n      <td>1</td>\n    </tr>\n    <tr>\n      <th>2774415</th>\n      <td>the worst service ever food was disgusting i w...</td>\n      <td>1</td>\n      <td>0</td>\n    </tr>\n    <tr>\n      <th>844766</th>\n      <td>i have been to this place twice  first was bla...</td>\n      <td>2</td>\n      <td>1</td>\n    </tr>\n    <tr>\n      <th>4651450</th>\n      <td>my family loves eddie bulls cookie dough they ...</td>\n      <td>5</td>\n      <td>4</td>\n    </tr>\n    <tr>\n      <th>1019303</th>\n      <td>still waiting on my truck that went into the s...</td>\n      <td>1</td>\n      <td>0</td>\n    </tr>\n    <tr>\n      <th>565233</th>\n      <td>nash painting was great from start to finish  ...</td>\n      <td>5</td>\n      <td>4</td>\n    </tr>\n  </tbody>\n</table>\n</div>"
     },
     "execution_count": 115,
     "metadata": {},
     "output_type": "execute_result"
    }
   ],
   "source": [
    "df_train.head(10)"
   ],
   "metadata": {
    "collapsed": false,
    "pycharm": {
     "name": "#%%\n"
    }
   }
  },
  {
   "cell_type": "code",
   "execution_count": 128,
   "outputs": [
    {
     "name": "stdout",
     "output_type": "stream",
     "text": [
      "this place is super whatever we waited in line for not too long and got sent to the 2nd floor where instead of listening to music we just heard dont forget to tip oh you wanna hear this song thats going to be 20 dollars and other things like that now i 100 get these musicians earn their money from tips but that just really turned me off it made me feel awkward and im sure im not the only one  we left shortly after and enjoyed other bars around where we wanted to tip them for rocking it not demanding it \n",
      " ['this', 'place', 'is', 'super', 'whatever', 'we', 'waited', 'in', 'line', 'for', 'not', 'too', 'long', 'and', 'got', 'sent', 'to', 'the', '2nd', 'floor', 'where', 'instead', 'of', 'listening', 'to', 'music', 'we', 'just', 'heard', 'dont', 'forget', 'to', 'tip', 'oh', 'you', 'wanna', 'hear', 'this', 'song', 'thats', 'going', 'to', 'be', '20', 'dollars', 'and', 'other', 'things', 'like', 'that', 'now', 'i', '100', 'get', 'these', 'musicians', 'earn', 'their', 'money', 'from', 'tips', 'but', 'that', 'just', 'really', 'turned', 'me', 'off', 'it', 'made', 'me', 'feel', 'awkward', 'and', 'im', 'sure', 'im', 'not', 'the', 'only', 'one', 'we', 'left', 'shortly', 'after', 'and', 'enjoyed', 'other', 'bars', 'around', 'where', 'we', 'wanted', 'to', 'tip', 'them', 'for', 'rocking', 'it', 'not', 'demanding', 'it']\n"
     ]
    }
   ],
   "source": [
    "ds_temp = df_train[\"text\"].iloc[:10].map(lambda text: text.split())\n",
    "print(df_train[\"text\"].iloc[0], '\\n', ds_temp.iloc[0])"
   ],
   "metadata": {
    "collapsed": false,
    "pycharm": {
     "name": "#%%\n"
    }
   }
  },
  {
   "cell_type": "code",
   "execution_count": 130,
   "outputs": [],
   "source": [
    "from sklearn.feature_extraction.text import CountVectorizer, TfidfVectorizer\n",
    "\n",
    "def extract_features(df_train, df_dev, df_test):\n",
    "  vectorizer = TfidfVectorizer(analyzer='word',\n",
    "                               stop_words='english',\n",
    "                               ngram_range=(1, 2),\n",
    "                               lowercase=True,\n",
    "                               min_df=5,\n",
    "                               binary=False)\n",
    "  X_train = vectorizer.fit_transform(df_train[\"text\"])\n",
    "  X_dev = vectorizer.transform(df_dev[\"text\"])\n",
    "  X_test = vectorizer.transform(df_test[\"text\"])\n",
    "  y_train = df_train[\"stars\"].tolist()\n",
    "  y_dev = df_dev[\"stars\"].tolist()\n",
    "  y_test = df_test[\"stars\"].tolist()\n",
    "\n",
    "  return X_train, X_dev, X_test, y_train, y_dev, y_test"
   ],
   "metadata": {
    "collapsed": false,
    "pycharm": {
     "name": "#%%\n"
    }
   }
  },
  {
   "cell_type": "code",
   "execution_count": null,
   "outputs": [],
   "source": [
    "X_train, X_dev, X_test, y_train, y_dev, y_test = extract_features(df_train, df_dev, df_test)"
   ],
   "metadata": {
    "collapsed": false,
    "pycharm": {
     "name": "#%%\n",
     "is_executing": true
    }
   }
  },
  {
   "cell_type": "code",
   "execution_count": null,
   "outputs": [],
   "source": [
    "from sklearn.metrics import accuracy_score, precision_score, recall_score\n",
    "from sklearn.metrics import f1_score, mean_squared_error\n",
    "from sklearn.metrics import classification_report\n",
    "from sklearn.metrics import ConfusionMatrixDisplay, confusion_matrix\n",
    "from simpletransformers.classification import ClassificationModel"
   ],
   "metadata": {
    "collapsed": false,
    "pycharm": {
     "name": "#%%\n"
    }
   }
  },
  {
   "cell_type": "code",
   "execution_count": 133,
   "outputs": [],
   "source": [
    "def evaluate_bert_model_one(model, df, label=\"Training\", model_name=\"model\"):\n",
    "  y = df['labels'].tolist()\n",
    "  y_pred, raw_outputs = model.predict(df['text'].tolist())\n",
    "\n",
    "  print(label + ' Set')\n",
    "  print(\"Accuracy:\", accuracy_score(y, y_pred))\n",
    "  print()\n",
    "\n",
    "  print(classification_report(y, y_pred, digits=4))\n",
    "  df_cm = pd.DataFrame(confusion_matrix(y, y_pred, normalize='true'),\n",
    "                       range(1,6), range(1,6))\n",
    "  plt.figure(figsize=(6,4))\n",
    "  ax = sn.heatmap(df_cm, annot=True, cmap=plt.cm.Blues, square=True)\n",
    "  ax.set_xlabel('Predicted label')\n",
    "  ax.set_ylabel('True label')\n",
    "  plt.savefig(model_name + \"_\" + label.lower() + \".eps\")\n",
    "  plt.show()\n",
    "  print()"
   ],
   "metadata": {
    "collapsed": false,
    "pycharm": {
     "name": "#%%\n"
    }
   }
  },
  {
   "cell_type": "code",
   "execution_count": 134,
   "outputs": [],
   "source": [
    "def evaluate_bert_model(model, model_name=\"model\"):\n",
    "  evaluate_bert_model_one(model, df_dev, label=\"Validation\", model_name=model_name)\n",
    "  evaluate_bert_model_one(model, df_test, label=\"Testing\", model_name=model_name)\n",
    "  # evaluate_bert_model_one(model, df_train, label=\"Training\", model_name=model_name)"
   ],
   "metadata": {
    "collapsed": false,
    "pycharm": {
     "name": "#%%\n"
    }
   }
  },
  {
   "cell_type": "code",
   "execution_count": null,
   "outputs": [],
   "source": [
    "model_bert_base_uncased = \\\n",
    "ClassificationModel('bert',\n",
    "                    'bert-base-uncased',\n",
    "                    num_labels=5,\n",
    "                    use_cuda=False,\n",
    "                    args={\"output_dir\": \"outputs_bert_base_uncased/\",\n",
    "                          \"best_model_dir\": \"outputs_bert_base_uncased/best_model/\",\n",
    "                          \"max_seq_length\": 128,\n",
    "                          \"train_batch_size\": 200,\n",
    "                          \"num_train_epochs\": 1,\n",
    "                          \"logging_steps\": 100,\n",
    "                          \"evaluate_during_training\": True,\n",
    "                          \"evaluate_during_training_steps\": 5000,\n",
    "                          \"evaluate_during_training_verbose\": False,\n",
    "                          \"save_eval_checkpoints\": False,\n",
    "                          \"save_steps\": 20000,\n",
    "                          \"save_model_every_epoch\": True,\n",
    "                          \"overwrite_output_dir\": True,\n",
    "                          \"reprocess_input_data\": False})"
   ],
   "metadata": {
    "collapsed": false,
    "pycharm": {
     "name": "#%%\n",
     "is_executing": true
    }
   }
  },
  {
   "cell_type": "code",
   "execution_count": 143,
   "outputs": [
    {
     "data": {
      "text/plain": "Epoch:   0%|          | 0/1 [00:00<?, ?it/s]",
      "application/vnd.jupyter.widget-view+json": {
       "version_major": 2,
       "version_minor": 0,
       "model_id": "fba4beb97f144274801722bbd53135de"
      }
     },
     "metadata": {},
     "output_type": "display_data"
    },
    {
     "data": {
      "text/plain": "Running Epoch 1 of 1:   0%|          | 0/6250 [00:00<?, ?it/s]",
      "application/vnd.jupyter.widget-view+json": {
       "version_major": 2,
       "version_minor": 0,
       "model_id": "84b2d5619bcb4a3289849c36b4a7a702"
      }
     },
     "metadata": {},
     "output_type": "display_data"
    },
    {
     "ename": "KeyboardInterrupt",
     "evalue": "",
     "output_type": "error",
     "traceback": [
      "\u001B[0;31m---------------------------------------------------------------------------\u001B[0m",
      "\u001B[0;31mKeyboardInterrupt\u001B[0m                         Traceback (most recent call last)",
      "Cell \u001B[0;32mIn[143], line 1\u001B[0m\n\u001B[0;32m----> 1\u001B[0m \u001B[43mmodel_bert_base_uncased\u001B[49m\u001B[38;5;241;43m.\u001B[39;49m\u001B[43mtrain_model\u001B[49m\u001B[43m(\u001B[49m\u001B[43mdf_train\u001B[49m\u001B[43m,\u001B[49m\u001B[43m \u001B[49m\u001B[43meval_df\u001B[49m\u001B[38;5;241;43m=\u001B[39;49m\u001B[43mdf_dev\u001B[49m\u001B[43m)\u001B[49m\n",
      "File \u001B[0;32m/Library/Frameworks/Python.framework/Versions/3.8/lib/python3.8/site-packages/simpletransformers/classification/classification_model.py:630\u001B[0m, in \u001B[0;36mClassificationModel.train_model\u001B[0;34m(self, train_df, multi_label, output_dir, show_running_loss, args, eval_df, verbose, **kwargs)\u001B[0m\n\u001B[1;32m    621\u001B[0m train_dataloader \u001B[38;5;241m=\u001B[39m DataLoader(\n\u001B[1;32m    622\u001B[0m     train_dataset,\n\u001B[1;32m    623\u001B[0m     sampler\u001B[38;5;241m=\u001B[39mtrain_sampler,\n\u001B[1;32m    624\u001B[0m     batch_size\u001B[38;5;241m=\u001B[39m\u001B[38;5;28mself\u001B[39m\u001B[38;5;241m.\u001B[39margs\u001B[38;5;241m.\u001B[39mtrain_batch_size,\n\u001B[1;32m    625\u001B[0m     num_workers\u001B[38;5;241m=\u001B[39m\u001B[38;5;28mself\u001B[39m\u001B[38;5;241m.\u001B[39margs\u001B[38;5;241m.\u001B[39mdataloader_num_workers,\n\u001B[1;32m    626\u001B[0m )\n\u001B[1;32m    628\u001B[0m os\u001B[38;5;241m.\u001B[39mmakedirs(output_dir, exist_ok\u001B[38;5;241m=\u001B[39m\u001B[38;5;28;01mTrue\u001B[39;00m)\n\u001B[0;32m--> 630\u001B[0m global_step, training_details \u001B[38;5;241m=\u001B[39m \u001B[38;5;28;43mself\u001B[39;49m\u001B[38;5;241;43m.\u001B[39;49m\u001B[43mtrain\u001B[49m\u001B[43m(\u001B[49m\n\u001B[1;32m    631\u001B[0m \u001B[43m    \u001B[49m\u001B[43mtrain_dataloader\u001B[49m\u001B[43m,\u001B[49m\n\u001B[1;32m    632\u001B[0m \u001B[43m    \u001B[49m\u001B[43moutput_dir\u001B[49m\u001B[43m,\u001B[49m\n\u001B[1;32m    633\u001B[0m \u001B[43m    \u001B[49m\u001B[43mmulti_label\u001B[49m\u001B[38;5;241;43m=\u001B[39;49m\u001B[43mmulti_label\u001B[49m\u001B[43m,\u001B[49m\n\u001B[1;32m    634\u001B[0m \u001B[43m    \u001B[49m\u001B[43mshow_running_loss\u001B[49m\u001B[38;5;241;43m=\u001B[39;49m\u001B[43mshow_running_loss\u001B[49m\u001B[43m,\u001B[49m\n\u001B[1;32m    635\u001B[0m \u001B[43m    \u001B[49m\u001B[43meval_df\u001B[49m\u001B[38;5;241;43m=\u001B[39;49m\u001B[43meval_df\u001B[49m\u001B[43m,\u001B[49m\n\u001B[1;32m    636\u001B[0m \u001B[43m    \u001B[49m\u001B[43mverbose\u001B[49m\u001B[38;5;241;43m=\u001B[39;49m\u001B[43mverbose\u001B[49m\u001B[43m,\u001B[49m\n\u001B[1;32m    637\u001B[0m \u001B[43m    \u001B[49m\u001B[38;5;241;43m*\u001B[39;49m\u001B[38;5;241;43m*\u001B[39;49m\u001B[43mkwargs\u001B[49m\u001B[43m,\u001B[49m\n\u001B[1;32m    638\u001B[0m \u001B[43m\u001B[49m\u001B[43m)\u001B[49m\n\u001B[1;32m    640\u001B[0m \u001B[38;5;66;03m# model_to_save = self.model.module if hasattr(self.model, \"module\") else self.model\u001B[39;00m\n\u001B[1;32m    641\u001B[0m \u001B[38;5;66;03m# model_to_save.save_pretrained(output_dir)\u001B[39;00m\n\u001B[1;32m    642\u001B[0m \u001B[38;5;66;03m# self.tokenizer.save_pretrained(output_dir)\u001B[39;00m\n\u001B[1;32m    643\u001B[0m \u001B[38;5;66;03m# torch.save(self.args, os.path.join(output_dir, \"training_args.bin\"))\u001B[39;00m\n\u001B[1;32m    644\u001B[0m \u001B[38;5;28mself\u001B[39m\u001B[38;5;241m.\u001B[39msave_model(model\u001B[38;5;241m=\u001B[39m\u001B[38;5;28mself\u001B[39m\u001B[38;5;241m.\u001B[39mmodel)\n",
      "File \u001B[0;32m/Library/Frameworks/Python.framework/Versions/3.8/lib/python3.8/site-packages/simpletransformers/classification/classification_model.py:940\u001B[0m, in \u001B[0;36mClassificationModel.train\u001B[0;34m(self, train_dataloader, output_dir, multi_label, show_running_loss, eval_df, test_df, verbose, **kwargs)\u001B[0m\n\u001B[1;32m    938\u001B[0m     scaler\u001B[38;5;241m.\u001B[39mscale(loss)\u001B[38;5;241m.\u001B[39mbackward()\n\u001B[1;32m    939\u001B[0m \u001B[38;5;28;01melse\u001B[39;00m:\n\u001B[0;32m--> 940\u001B[0m     \u001B[43mloss\u001B[49m\u001B[38;5;241;43m.\u001B[39;49m\u001B[43mbackward\u001B[49m\u001B[43m(\u001B[49m\u001B[43m)\u001B[49m\n\u001B[1;32m    942\u001B[0m tr_loss \u001B[38;5;241m+\u001B[39m\u001B[38;5;241m=\u001B[39m loss\u001B[38;5;241m.\u001B[39mitem()\n\u001B[1;32m    943\u001B[0m \u001B[38;5;28;01mif\u001B[39;00m (step \u001B[38;5;241m+\u001B[39m \u001B[38;5;241m1\u001B[39m) \u001B[38;5;241m%\u001B[39m args\u001B[38;5;241m.\u001B[39mgradient_accumulation_steps \u001B[38;5;241m==\u001B[39m \u001B[38;5;241m0\u001B[39m:\n",
      "File \u001B[0;32m/Library/Frameworks/Python.framework/Versions/3.8/lib/python3.8/site-packages/torch/_tensor.py:522\u001B[0m, in \u001B[0;36mTensor.backward\u001B[0;34m(self, gradient, retain_graph, create_graph, inputs)\u001B[0m\n\u001B[1;32m    512\u001B[0m \u001B[38;5;28;01mif\u001B[39;00m has_torch_function_unary(\u001B[38;5;28mself\u001B[39m):\n\u001B[1;32m    513\u001B[0m     \u001B[38;5;28;01mreturn\u001B[39;00m handle_torch_function(\n\u001B[1;32m    514\u001B[0m         Tensor\u001B[38;5;241m.\u001B[39mbackward,\n\u001B[1;32m    515\u001B[0m         (\u001B[38;5;28mself\u001B[39m,),\n\u001B[0;32m   (...)\u001B[0m\n\u001B[1;32m    520\u001B[0m         inputs\u001B[38;5;241m=\u001B[39minputs,\n\u001B[1;32m    521\u001B[0m     )\n\u001B[0;32m--> 522\u001B[0m \u001B[43mtorch\u001B[49m\u001B[38;5;241;43m.\u001B[39;49m\u001B[43mautograd\u001B[49m\u001B[38;5;241;43m.\u001B[39;49m\u001B[43mbackward\u001B[49m\u001B[43m(\u001B[49m\n\u001B[1;32m    523\u001B[0m \u001B[43m    \u001B[49m\u001B[38;5;28;43mself\u001B[39;49m\u001B[43m,\u001B[49m\u001B[43m \u001B[49m\u001B[43mgradient\u001B[49m\u001B[43m,\u001B[49m\u001B[43m \u001B[49m\u001B[43mretain_graph\u001B[49m\u001B[43m,\u001B[49m\u001B[43m \u001B[49m\u001B[43mcreate_graph\u001B[49m\u001B[43m,\u001B[49m\u001B[43m \u001B[49m\u001B[43minputs\u001B[49m\u001B[38;5;241;43m=\u001B[39;49m\u001B[43minputs\u001B[49m\n\u001B[1;32m    524\u001B[0m \u001B[43m\u001B[49m\u001B[43m)\u001B[49m\n",
      "File \u001B[0;32m/Library/Frameworks/Python.framework/Versions/3.8/lib/python3.8/site-packages/torch/autograd/__init__.py:266\u001B[0m, in \u001B[0;36mbackward\u001B[0;34m(tensors, grad_tensors, retain_graph, create_graph, grad_variables, inputs)\u001B[0m\n\u001B[1;32m    261\u001B[0m     retain_graph \u001B[38;5;241m=\u001B[39m create_graph\n\u001B[1;32m    263\u001B[0m \u001B[38;5;66;03m# The reason we repeat the same comment below is that\u001B[39;00m\n\u001B[1;32m    264\u001B[0m \u001B[38;5;66;03m# some Python versions print out the first line of a multi-line function\u001B[39;00m\n\u001B[1;32m    265\u001B[0m \u001B[38;5;66;03m# calls in the traceback and some print out the last line\u001B[39;00m\n\u001B[0;32m--> 266\u001B[0m \u001B[43mVariable\u001B[49m\u001B[38;5;241;43m.\u001B[39;49m\u001B[43m_execution_engine\u001B[49m\u001B[38;5;241;43m.\u001B[39;49m\u001B[43mrun_backward\u001B[49m\u001B[43m(\u001B[49m\u001B[43m  \u001B[49m\u001B[38;5;66;43;03m# Calls into the C++ engine to run the backward pass\u001B[39;49;00m\n\u001B[1;32m    267\u001B[0m \u001B[43m    \u001B[49m\u001B[43mtensors\u001B[49m\u001B[43m,\u001B[49m\n\u001B[1;32m    268\u001B[0m \u001B[43m    \u001B[49m\u001B[43mgrad_tensors_\u001B[49m\u001B[43m,\u001B[49m\n\u001B[1;32m    269\u001B[0m \u001B[43m    \u001B[49m\u001B[43mretain_graph\u001B[49m\u001B[43m,\u001B[49m\n\u001B[1;32m    270\u001B[0m \u001B[43m    \u001B[49m\u001B[43mcreate_graph\u001B[49m\u001B[43m,\u001B[49m\n\u001B[1;32m    271\u001B[0m \u001B[43m    \u001B[49m\u001B[43minputs\u001B[49m\u001B[43m,\u001B[49m\n\u001B[1;32m    272\u001B[0m \u001B[43m    \u001B[49m\u001B[43mallow_unreachable\u001B[49m\u001B[38;5;241;43m=\u001B[39;49m\u001B[38;5;28;43;01mTrue\u001B[39;49;00m\u001B[43m,\u001B[49m\n\u001B[1;32m    273\u001B[0m \u001B[43m    \u001B[49m\u001B[43maccumulate_grad\u001B[49m\u001B[38;5;241;43m=\u001B[39;49m\u001B[38;5;28;43;01mTrue\u001B[39;49;00m\u001B[43m,\u001B[49m\n\u001B[1;32m    274\u001B[0m \u001B[43m\u001B[49m\u001B[43m)\u001B[49m\n",
      "\u001B[0;31mKeyboardInterrupt\u001B[0m: "
     ]
    }
   ],
   "source": [
    "model_bert_base_uncased.train_model(df_train, eval_df=df_dev)"
   ],
   "metadata": {
    "collapsed": false,
    "pycharm": {
     "name": "#%%\n"
    }
   }
  },
  {
   "cell_type": "code",
   "execution_count": null,
   "outputs": [],
   "source": [],
   "metadata": {
    "collapsed": false,
    "pycharm": {
     "name": "#%%\n"
    }
   }
  }
 ],
 "metadata": {
  "kernelspec": {
   "display_name": "Python 3",
   "language": "python",
   "name": "python3"
  },
  "language_info": {
   "codemirror_mode": {
    "name": "ipython",
    "version": 2
   },
   "file_extension": ".py",
   "mimetype": "text/x-python",
   "name": "python",
   "nbconvert_exporter": "python",
   "pygments_lexer": "ipython2",
   "version": "2.7.6"
  }
 },
 "nbformat": 4,
 "nbformat_minor": 0
}